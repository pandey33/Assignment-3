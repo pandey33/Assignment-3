{
 "cells": [
  {
   "cell_type": "code",
   "execution_count": 2,
   "metadata": {},
   "outputs": [
    {
     "name": "stdout",
     "output_type": "stream",
     "text": [
      "['x', 'xx', 'xxx', 'xxxx', 'y', 'yy', 'yyy', 'yyyy', 'z', 'zz', 'zzz', 'zzzz']\n",
      "['x', 'xx', 'xxx', 'xxxx', 'y', 'yy', 'yyy', 'yyyy', 'z', 'zz', 'zzz', 'zzzz']\n"
     ]
    }
   ],
   "source": [
    "#List Comprehension Example 1:\n",
    "\n",
    "A = ['x','y','z']\n",
    "pattern = []\n",
    "for i in A:\n",
    "    for j in range(1,5):\n",
    "        pattern.append(i*j)\n",
    "        \n",
    "print (pattern)\n",
    "\n",
    "\n",
    "#converting the for loop into list comprehension\n",
    "B = ['x','y','z']\n",
    "pattern = []\n",
    "\n",
    "#output = list(i*j for i in B for j in range (1,5))\n",
    "output = [i*j for i in B for j in range (1,5)]\n",
    "\n",
    "print (output)"
   ]
  },
  {
   "cell_type": "code",
   "execution_count": 3,
   "metadata": {},
   "outputs": [
    {
     "name": "stdout",
     "output_type": "stream",
     "text": [
      "['x', 'y', 'z', 'xx', 'yy', 'zz', 'xxx', 'yyy', 'zzz', 'xxxx', 'yyyy', 'zzzz']\n",
      "['x', 'y', 'z', 'xx', 'yy', 'zz', 'xxx', 'yyy', 'zzz', 'xxxx', 'yyyy', 'zzzz']\n"
     ]
    }
   ],
   "source": [
    "#List Comprehension Example 2:\n",
    "\n",
    "A = ['x','y','z']\n",
    "\n",
    "P = []\n",
    "for i in range (1,5):\n",
    "    for j in A:\n",
    "        Y = i*j\n",
    "        P.append (Y)\n",
    "print (P)\n",
    "\n",
    "\n",
    "#Converting for loop into List comprehension\n",
    "A = ['x','y','z']\n",
    "P = []\n",
    "\n",
    "Output= [i*j for i in range (1,5) for j in A]\n",
    "\n",
    "print (Output)"
   ]
  },
  {
   "cell_type": "code",
   "execution_count": 15,
   "metadata": {},
   "outputs": [
    {
     "name": "stdout",
     "output_type": "stream",
     "text": [
      "[[2], [3], [4], [3], [4], [5], [4], [5], [6]]\n",
      "[[2, 3, 4, 5], [3, 4, 5, 6], [4, 5, 6, 7], [5, 6, 7, 8]]\n",
      "[[2], [3], [4], [3], [4], [5], [4], [5], [6]]\n",
      "[[2, 3, 4, 5], [3, 4, 5, 6], [4, 5, 6, 7], [5, 6, 7, 8]]\n",
      "\n",
      " \n",
      "\n",
      "Final output is [[2], [3], [4], [3], [4], [5], [4], [5], [6], [2, 3, 4, 5], [3, 4, 5, 6], [4, 5, 6, 7], [5, 6, 7, 8]]:\n"
     ]
    }
   ],
   "source": [
    "#List Comprehension Example 3:\n",
    "\n",
    "y = []        \n",
    "for i in range (2,5):\n",
    "    for j in range(3):\n",
    "        y.append([i + j])\n",
    "print (y)\n",
    "\n",
    "x = []        \n",
    "for i in range (2,6):\n",
    "    y = []\n",
    "    for j in range(4):\n",
    "        y.append(i + j)\n",
    "    x.append(y)\n",
    "    \n",
    "print (x)\n",
    "\n",
    "\n",
    "\n",
    "#Converting above 2 for loops into list comprehension\n",
    "\n",
    "output1= [[i+j] for i in range (2,5) for j in range(3)]\n",
    "print (output1)\n",
    "\n",
    "output2 = [[i+j for i in range (2,6)] for j in range(4)]\n",
    "print (output2)\n",
    "\n",
    "\n",
    "#Combining ouput of above 2 list comprehension to get the desired result\n",
    "\n",
    "final_output = output1 + output2\n",
    "\n",
    "print ('\\n \\n')\n",
    "print (\"Final output is %s:\" %(final_output))\n"
   ]
  },
  {
   "cell_type": "code",
   "execution_count": 16,
   "metadata": {},
   "outputs": [
    {
     "name": "stdout",
     "output_type": "stream",
     "text": [
      "[(1, 1), (2, 1), (3, 1), (1, 2), (2, 2), (3, 2), (1, 3), (2, 3), (3, 3)]\n",
      "[(1, 1), (2, 1), (3, 1), (1, 2), (2, 2), (3, 2), (1, 3), (2, 3), (3, 3)]\n"
     ]
    }
   ],
   "source": [
    "#List Comprehension Example 4:\n",
    "\n",
    "x=[]\n",
    "for i in range (1,4):\n",
    "    for j in range(1,4):\n",
    "            x.append((j,i))\n",
    "print (x)\n",
    "\n",
    "\n",
    "#Converting for loop into list comprehension\n",
    "\n",
    "output = [(j,i) for i in range (1,4) for j in range (1,4)]\n",
    "print (output)"
   ]
  },
  {
   "cell_type": "code",
   "execution_count": null,
   "metadata": {},
   "outputs": [],
   "source": []
  }
 ],
 "metadata": {
  "kernelspec": {
   "display_name": "Python 3",
   "language": "python",
   "name": "python3"
  },
  "language_info": {
   "codemirror_mode": {
    "name": "ipython",
    "version": 3
   },
   "file_extension": ".py",
   "mimetype": "text/x-python",
   "name": "python",
   "nbconvert_exporter": "python",
   "pygments_lexer": "ipython3",
   "version": "3.8.5"
  }
 },
 "nbformat": 4,
 "nbformat_minor": 4
}
